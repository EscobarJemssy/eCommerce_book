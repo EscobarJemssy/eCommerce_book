{
 "cells": [
  {
   "cell_type": "code",
   "execution_count": null,
   "id": "bc43b060",
   "metadata": {},
   "outputs": [],
   "source": [
    "!pip pandas\n",
    "!pip os "
   ]
  },
  {
   "cell_type": "markdown",
   "id": "30af1985",
   "metadata": {},
   "source": [
    "<span style=\"font-family: 'Bahnschrift Light'; font-size: 22px\">Cleaning up data</span>"
   ]
  },
  {
   "cell_type": "code",
   "execution_count": 54,
   "id": "a3aff663",
   "metadata": {},
   "outputs": [],
   "source": [
    "import os \n",
    "\n",
    "path_current = os.getcwd()\n",
    "path_data = os.path.abspath(os.path.join(path_current, '..', 'google_books_1299.csv'))\n",
    "path_data_clean = os.path.abspath(f'{path_current}/src/assets')"
   ]
  },
  {
   "cell_type": "code",
   "execution_count": 55,
   "id": "cd333f28",
   "metadata": {},
   "outputs": [],
   "source": [
    "import pandas as pd\n",
    "union_ = pd.read_csv('C:/Users/jemss/OneDrive/Escritorio/react/links_output.csv', sep=';')"
   ]
  },
  {
   "cell_type": "code",
   "execution_count": 57,
   "id": "cf46f287",
   "metadata": {},
   "outputs": [],
   "source": [
    "import pandas as pd\n",
    "\n",
    "try:\n",
    "    df = pd.read_csv(path_data, encoding=\"utf-8\") # Uploading data\n",
    "except UnicodeDecodeError as e:\n",
    "    print(f\"Error: {e}\")\n",
    "\n",
    "df = df.head(50).reset_index(drop=True) # Limiting to 50 rows\n",
    "df = df.drop_duplicates(subset='title').reset_index(drop=True) # Dropping duplicates\n",
    "try:\n",
    "    df['images'] = union_['link'] # Adding images\n",
    "except ValueError as e:\n",
    "    print(f\"Error: {e}\")\n",
    "\n",
    "# Dropping unnecessary columns\n",
    "df = df.drop(columns=['currency']) \n",
    "df = df.rename(columns={'Unnamed: 0': 'index'})\n",
    "\n",
    "# Converting columns to appropriate data types\n",
    "df['price'] = df['price'].astype(str).str.replace(r'\\..*', '.000', regex=True)\n",
    "df['voters'] = df['voters'].astype(str).str.replace(',', '').replace('nan', '0').astype(int)\n",
    "df['rating'] = pd.to_numeric(df['rating'], errors='coerce').fillna(0).astype(float)\n",
    "df['published_date'] = df['published_date'].astype(str).str.strip().str.replace(',', ' de', regex=True)\n",
    "df['generes'] = df['generes'].replace('none', 'Undefined') "
   ]
  },
  {
   "cell_type": "code",
   "execution_count": 58,
   "id": "822977eb",
   "metadata": {},
   "outputs": [
    {
     "data": {
      "text/plain": [
       "Index(['index', 'title', 'author', 'rating', 'voters', 'price', 'description',\n",
       "       'publisher', 'page_count', 'generes', 'ISBN', 'language',\n",
       "       'published_date', 'images'],\n",
       "      dtype='object')"
      ]
     },
     "execution_count": 58,
     "metadata": {},
     "output_type": "execute_result"
    }
   ],
   "source": [
    "df.columns"
   ]
  },
  {
   "cell_type": "code",
   "execution_count": 59,
   "id": "52910109",
   "metadata": {},
   "outputs": [],
   "source": [
    "# Cleaning the writing of genres\n",
    "df['generes'] = (\n",
    "    df['generes']\n",
    "    .str.replace('&amp', '', regex=False)\n",
    "    .str.replace('&', 'and', regex=False)\n",
    "    .str.replace(r'\\s*\\([^)]*\\)', '', regex=True)  # Remove text in parentheses\n",
    "    .str.strip()\n",
    ")"
   ]
  },
  {
   "cell_type": "code",
   "execution_count": 60,
   "id": "c3034c27",
   "metadata": {},
   "outputs": [
    {
     "name": "stdout",
     "output_type": "stream",
     "text": [
      "<class 'pandas.core.frame.DataFrame'>\n",
      "RangeIndex: 45 entries, 0 to 44\n",
      "Data columns (total 14 columns):\n",
      " #   Column          Non-Null Count  Dtype  \n",
      "---  ------          --------------  -----  \n",
      " 0   index           45 non-null     int64  \n",
      " 1   title           45 non-null     object \n",
      " 2   author          45 non-null     object \n",
      " 3   rating          45 non-null     float64\n",
      " 4   voters          45 non-null     int64  \n",
      " 5   price           45 non-null     object \n",
      " 6   description     45 non-null     object \n",
      " 7   publisher       45 non-null     object \n",
      " 8   page_count      45 non-null     int64  \n",
      " 9   generes         45 non-null     object \n",
      " 10  ISBN            45 non-null     object \n",
      " 11  language        45 non-null     object \n",
      " 12  published_date  45 non-null     object \n",
      " 13  images          45 non-null     object \n",
      "dtypes: float64(1), int64(3), object(10)\n",
      "memory usage: 5.1+ KB\n"
     ]
    }
   ],
   "source": [
    "df.info() # Displaying DataFrame information"
   ]
  },
  {
   "cell_type": "code",
   "execution_count": 123,
   "id": "defb2615",
   "metadata": {},
   "outputs": [
    {
     "name": "stdout",
     "output_type": "stream",
     "text": [
      "135.0\n"
     ]
    }
   ],
   "source": [
    "u = df['voters'].unique()\n",
    "u = sorted(u)\n",
    "u = pd.Series(u)\n",
    "print(u.median())"
   ]
  },
  {
   "cell_type": "code",
   "execution_count": 125,
   "id": "cc09f4a2",
   "metadata": {},
   "outputs": [
    {
     "name": "stdout",
     "output_type": "stream",
     "text": [
      "32\n",
      "4.24888888888889\n"
     ]
    }
   ],
   "source": [
    "media = df['rating'].mean() # Calculating the mean rating\n",
    "print(len(df[df['rating'] > media].sort_values(by='rating', ascending=False)))\n",
    "print(media)"
   ]
  },
  {
   "cell_type": "code",
   "execution_count": 61,
   "id": "7ac95d6d",
   "metadata": {},
   "outputs": [],
   "source": [
    "def change_format_to_json(df, route, kwargs): # Function to convert DataFrame to JSON\n",
    "    try:\n",
    "        filename = os.path.abspath(f'{route}/{kwargs['path_or_buf']}.json')\n",
    "        kwargs.pop('path_or_buf')\n",
    "        df.to_json(filename,**kwargs)# lalala\n",
    "    except Exception as e: \n",
    "        print(f\"Error: {e}\")\n",
    "        \n",
    "params = {'path_or_buf': 'google_books_1299_clean_1', 'orient': 'records', 'force_ascii': False}\n",
    "change_format_to_json(df, path_data_clean, params) "
   ]
  },
  {
   "cell_type": "code",
   "execution_count": 62,
   "id": "ac8b7c72",
   "metadata": {},
   "outputs": [
    {
     "data": {
      "text/html": [
       "<div>\n",
       "<style scoped>\n",
       "    .dataframe tbody tr th:only-of-type {\n",
       "        vertical-align: middle;\n",
       "    }\n",
       "\n",
       "    .dataframe tbody tr th {\n",
       "        vertical-align: top;\n",
       "    }\n",
       "\n",
       "    .dataframe thead th {\n",
       "        text-align: right;\n",
       "    }\n",
       "</style>\n",
       "<table border=\"1\" class=\"dataframe\">\n",
       "  <thead>\n",
       "    <tr style=\"text-align: right;\">\n",
       "      <th></th>\n",
       "      <th>index</th>\n",
       "      <th>title</th>\n",
       "      <th>author</th>\n",
       "      <th>rating</th>\n",
       "      <th>voters</th>\n",
       "      <th>price</th>\n",
       "      <th>description</th>\n",
       "      <th>publisher</th>\n",
       "      <th>page_count</th>\n",
       "      <th>generes</th>\n",
       "      <th>ISBN</th>\n",
       "      <th>language</th>\n",
       "      <th>published_date</th>\n",
       "      <th>images</th>\n",
       "    </tr>\n",
       "  </thead>\n",
       "  <tbody>\n",
       "    <tr>\n",
       "      <th>0</th>\n",
       "      <td>0</td>\n",
       "      <td>Attack on Titan: Volume 13</td>\n",
       "      <td>Hajime Isayama</td>\n",
       "      <td>4.6</td>\n",
       "      <td>428</td>\n",
       "      <td>43.000</td>\n",
       "      <td>NO SAFE PLACE LEFT At great cost to the Garris...</td>\n",
       "      <td>Kodansha Comics</td>\n",
       "      <td>192</td>\n",
       "      <td>Undefined</td>\n",
       "      <td>9781612626864</td>\n",
       "      <td>English</td>\n",
       "      <td>Jul 31 de 2014</td>\n",
       "      <td>https://panamericana.vtexassets.com/arquivos/i...</td>\n",
       "    </tr>\n",
       "    <tr>\n",
       "      <th>1</th>\n",
       "      <td>1</td>\n",
       "      <td>Antiques Roadkill: A Trash 'n' Treasures Mystery</td>\n",
       "      <td>Barbara Allan</td>\n",
       "      <td>3.3</td>\n",
       "      <td>23</td>\n",
       "      <td>26.000</td>\n",
       "      <td>Determined to make a new start in her quaint h...</td>\n",
       "      <td>Kensington Publishing Corp.</td>\n",
       "      <td>288</td>\n",
       "      <td>Fiction , Mystery , Detective , Cozy , General</td>\n",
       "      <td>9780758272799</td>\n",
       "      <td>English</td>\n",
       "      <td>Jul 1 de 2007</td>\n",
       "      <td>https://m.media-amazon.com/images/I/71Gvt7mZZc...</td>\n",
       "    </tr>\n",
       "    <tr>\n",
       "      <th>2</th>\n",
       "      <td>2</td>\n",
       "      <td>The Art of Super Mario Odyssey</td>\n",
       "      <td>Nintendo</td>\n",
       "      <td>3.9</td>\n",
       "      <td>9</td>\n",
       "      <td>133.000</td>\n",
       "      <td>Take a globetrotting journey all over the worl...</td>\n",
       "      <td>Dark Horse Comics</td>\n",
       "      <td>368</td>\n",
       "      <td>Games , Activities , Video , Electronic</td>\n",
       "      <td>9781506713816</td>\n",
       "      <td>English</td>\n",
       "      <td>Nov 5 de 2019</td>\n",
       "      <td>https://images.cdn3.buscalibre.com/fit-in/360x...</td>\n",
       "    </tr>\n",
       "    <tr>\n",
       "      <th>3</th>\n",
       "      <td>3</td>\n",
       "      <td>Getting Away Is Deadly: An Ellie Avery Mystery</td>\n",
       "      <td>Sara Rosett</td>\n",
       "      <td>4.0</td>\n",
       "      <td>10</td>\n",
       "      <td>26.000</td>\n",
       "      <td>With swollen feet and swelling belly, pregnant...</td>\n",
       "      <td>Kensington Publishing Corp.</td>\n",
       "      <td>320</td>\n",
       "      <td>Undefined</td>\n",
       "      <td>9781617734076</td>\n",
       "      <td>English</td>\n",
       "      <td>Mar 1 de 2009</td>\n",
       "      <td>https://m.media-amazon.com/images/I/91BGvVjl+v...</td>\n",
       "    </tr>\n",
       "    <tr>\n",
       "      <th>4</th>\n",
       "      <td>4</td>\n",
       "      <td>The Painted Man (The Demon Cycle, Book 1)</td>\n",
       "      <td>Peter V. Brett</td>\n",
       "      <td>4.5</td>\n",
       "      <td>577</td>\n",
       "      <td>28.000</td>\n",
       "      <td>The stunning debut fantasy novel from author P...</td>\n",
       "      <td>HarperCollins UK</td>\n",
       "      <td>544</td>\n",
       "      <td>Fiction , Fantasy , Dark Fantasy</td>\n",
       "      <td>9780007287758</td>\n",
       "      <td>English</td>\n",
       "      <td>Jan 8 de 2009</td>\n",
       "      <td>https://m.media-amazon.com/images/I/81dzr3Bumy...</td>\n",
       "    </tr>\n",
       "  </tbody>\n",
       "</table>\n",
       "</div>"
      ],
      "text/plain": [
       "   index                                             title          author  \\\n",
       "0      0                        Attack on Titan: Volume 13  Hajime Isayama   \n",
       "1      1  Antiques Roadkill: A Trash 'n' Treasures Mystery   Barbara Allan   \n",
       "2      2                    The Art of Super Mario Odyssey        Nintendo   \n",
       "3      3    Getting Away Is Deadly: An Ellie Avery Mystery     Sara Rosett   \n",
       "4      4         The Painted Man (The Demon Cycle, Book 1)  Peter V. Brett   \n",
       "\n",
       "   rating  voters    price                                        description  \\\n",
       "0     4.6     428   43.000  NO SAFE PLACE LEFT At great cost to the Garris...   \n",
       "1     3.3      23   26.000  Determined to make a new start in her quaint h...   \n",
       "2     3.9       9  133.000  Take a globetrotting journey all over the worl...   \n",
       "3     4.0      10   26.000  With swollen feet and swelling belly, pregnant...   \n",
       "4     4.5     577   28.000  The stunning debut fantasy novel from author P...   \n",
       "\n",
       "                     publisher  page_count  \\\n",
       "0              Kodansha Comics         192   \n",
       "1  Kensington Publishing Corp.         288   \n",
       "2            Dark Horse Comics         368   \n",
       "3  Kensington Publishing Corp.         320   \n",
       "4             HarperCollins UK         544   \n",
       "\n",
       "                                          generes           ISBN language  \\\n",
       "0                                       Undefined  9781612626864  English   \n",
       "1  Fiction , Mystery , Detective , Cozy , General  9780758272799  English   \n",
       "2         Games , Activities , Video , Electronic  9781506713816  English   \n",
       "3                                       Undefined  9781617734076  English   \n",
       "4                Fiction , Fantasy , Dark Fantasy  9780007287758  English   \n",
       "\n",
       "   published_date                                             images  \n",
       "0  Jul 31 de 2014  https://panamericana.vtexassets.com/arquivos/i...  \n",
       "1   Jul 1 de 2007  https://m.media-amazon.com/images/I/71Gvt7mZZc...  \n",
       "2   Nov 5 de 2019  https://images.cdn3.buscalibre.com/fit-in/360x...  \n",
       "3   Mar 1 de 2009  https://m.media-amazon.com/images/I/91BGvVjl+v...  \n",
       "4   Jan 8 de 2009  https://m.media-amazon.com/images/I/81dzr3Bumy...  "
      ]
     },
     "execution_count": 62,
     "metadata": {},
     "output_type": "execute_result"
    }
   ],
   "source": [
    "df.head(5)"
   ]
  },
  {
   "cell_type": "markdown",
   "id": "49277a47",
   "metadata": {},
   "source": [
    "<span style=\"font-family: 'Bahnschrift Light'; font-size: 22px\">Using One Hot Encoding for book categories</span>"
   ]
  },
  {
   "cell_type": "code",
   "execution_count": 205,
   "id": "401f2d05",
   "metadata": {},
   "outputs": [],
   "source": [
    "df_cop = df.copy() # Creating a copy of the DataFrame"
   ]
  },
  {
   "cell_type": "code",
   "execution_count": 206,
   "id": "ab6589ea",
   "metadata": {},
   "outputs": [],
   "source": [
    "# Obtaining unique genres\n",
    "unique_gen = set()\n",
    "for i in df_cop['generes']:\n",
    "    for gen in str(i).split(','): \n",
    "        gen = gen.strip() # Removing leading/trailing spaces\n",
    "        unique_gen.add(gen)\n",
    "\n",
    "for gen in unique_gen:\n",
    "    df_cop[gen] = df_cop['generes'].apply(lambda x: gen in str(x)) # Creating new columns for each genre"
   ]
  },
  {
   "cell_type": "code",
   "execution_count": 198,
   "id": "83d18779",
   "metadata": {},
   "outputs": [
    {
     "name": "stdout",
     "output_type": "stream",
     "text": [
      "45\n",
      " ['Women Sleuths', 'Juvenile Fiction', 'Comics &amp', 'Activities', 'Baking', 'Dragons &amp', 'Detective', 'Adventure', 'Dark Fantasy', 'Electronic', 'Business &amp', 'Cooking', 'Comics & Graphic Novels', 'Science Fiction', 'Games &amp', 'Methods', 'Graphic Novels', 'Superheroes', 'Humorous Stories', 'Accounting', 'Undefined', 'Social Science', 'Fiction', 'Biography &amp', 'Classics', 'Action &amp', 'Mythical Creatures', 'Financial', 'General', 'Military', 'Economics', 'Mystery &amp', 'Video &amp', 'Fantasy', 'Cozy', 'Media Tie-In', 'Noir', 'Sports', 'Epic', 'Autobiography', 'Literary Criticism', 'Leadership', 'Women', 'Motivational', 'Medical (incl. Patients)']\n"
     ]
    }
   ],
   "source": [
    "print(f'{len(unique_gen)}\\n', list(unique_gen)) "
   ]
  },
  {
   "cell_type": "code",
   "execution_count": null,
   "id": "2cbdd037",
   "metadata": {},
   "outputs": [],
   "source": [
    "change_format_to_json(df_cop, path_data_clean, {'path_or_buf': 'google_books_1299_clean_copy', 'orient': 'records', 'force_ascii': False} )"
   ]
  },
  {
   "cell_type": "code",
   "execution_count": 161,
   "id": "90a94c17",
   "metadata": {},
   "outputs": [
    {
     "data": {
      "text/plain": [
       "['Prince of Thorns (The Broken Empire, Book 1)',\n",
       " 'Influence: The Psychology of Persuasion',\n",
       " 'Critical Role Vox Machina: Origins: Volume 1',\n",
       " 'Introducing Critical Theory: A Graphic Guide',\n",
       " 'Morning Star',\n",
       " 'Tall Tales and Wee Stories: The Best of Billy Connolly',\n",
       " 'After Anna',\n",
       " 'How to Win Friends and Influence People',\n",
       " 'The Empty Nest: An unputdownably gripping psychological thriller',\n",
       " 'W is for Wasted: A Kinsey Millhone Novel',\n",
       " 'Salvaged',\n",
       " 'The Art of Thinking Clearly',\n",
       " 'The Complete Works of William Shakespeare: All 213 Plays, Poems, Sonnets, Apocryphal Plays + The Biography: The Life of William Shakespeare by Sidney Lee: Hamlet - Romeo and Juliet - King Lear - A Midsummer Night’s Dream - Macbeth - The Tempest - Othello and many more',\n",
       " 'The Daylight War: Book Three of The Demon Cycle',\n",
       " 'The Ultimate Secrets of Total Self-Confidence',\n",
       " 'Ready Player One',\n",
       " 'A Forge of Valor (Kings and Sorcerers--Book 4)',\n",
       " 'How To Win Friends and Influence People',\n",
       " 'Financial Statements, Revised and Expanded Edition: A Step-by-Step Guide to Understanding and Creating Financial Reports',\n",
       " 'Death of a Bachelorette',\n",
       " 'Batman: The Man Who Laughs',\n",
       " \"Martha Stewart's Cookie Perfection: 100+ Recipes to Take Your Sweet Treats to the Next Level: A Baking Book\"]"
      ]
     },
     "execution_count": 161,
     "metadata": {},
     "output_type": "execute_result"
    }
   ],
   "source": [
    "c = ['Attack on Titan: Volume 13',\n",
    "       \"Antiques Roadkill: A Trash 'n' Treasures Mystery\",\n",
    "       'The Art of Super Mario Odyssey',\n",
    "       'Getting Away Is Deadly: An Ellie Avery Mystery',\n",
    "       'The Painted Man (The Demon Cycle, Book 1)',\n",
    "       'A Feast for Crows (A Song of Ice and Fire, Book 4)',\n",
    "       'God of War: The Official Novelization',\n",
    "       'Edgedancer: From the Stormlight Archive',\n",
    "       'Blood, Sweat, and Pixels: The Triumphant, Turbulent Stories Behind How Video Games Are Made',\n",
    "       'Twas The Nightshift Before Christmas: Festive hospital diaries from the author of million-copy hit This is Going to Hurt',\n",
    "       'Sword of Destiny: Witcher 2: Tales of the Witcher',\n",
    "       'The Mysterious Affair at Styles (Poirot)',\n",
    "       'Riley Paige Mystery Bundle: Once Gone (#1) and Once Taken (#2)',\n",
    "       'Deadpool Kills the Marvel Universe',\n",
    "       'The Red Signal: An Agatha Christie Short Story',\n",
    "       \"Crossroads of Twilight: Book Ten of 'The Wheel of Time'\",\n",
    "       'My Little Pony: Friendship is Magic #83',\n",
    "       'That Time I got Reincarnated as a Slime 11', 'Ask A Footballer',\n",
    "       'Sonic the Hedgehog #3', 'Ultimate Spider-Man Vol. 11: Carnage',\n",
    "       'The Last Wife: An absolutely gripping and emotional page turner with a brilliant twist',\n",
    "       \"The Hitchhiker's Guide to the Galaxy: 42nd Anniversary Edition\",\n",
    "       'Prince of Thorns (The Broken Empire, Book 1)',\n",
    "       'Influence: The Psychology of Persuasion',\n",
    "       'Critical Role Vox Machina: Origins: Volume 1',\n",
    "       'Introducing Critical Theory: A Graphic Guide', 'Morning Star',\n",
    "       'Tall Tales and Wee Stories: The Best of Billy Connolly',\n",
    "       'After Anna', 'How to Win Friends and Influence People',\n",
    "       'The Empty Nest: An unputdownably gripping psychological thriller',\n",
    "       'W is for Wasted: A Kinsey Millhone Novel', 'Salvaged',\n",
    "       'The Art of Thinking Clearly',\n",
    "       'The Complete Works of William Shakespeare: All 213 Plays, Poems, Sonnets, Apocryphal Plays + The Biography: The Life of William Shakespeare by Sidney Lee: Hamlet - Romeo and Juliet - King Lear - A Midsummer Night’s Dream - Macbeth - The Tempest - Othello and many more',\n",
    "       'The Daylight War: Book Three of The Demon Cycle',\n",
    "       'The Ultimate Secrets of Total Self-Confidence',\n",
    "       'Ready Player One',\n",
    "       'A Forge of Valor (Kings and Sorcerers--Book 4)',\n",
    "       'How To Win Friends and Influence People',\n",
    "       'Financial Statements, Revised and Expanded Edition: A Step-by-Step Guide to Understanding and Creating Financial Reports',\n",
    "       'Death of a Bachelorette', 'Batman: The Man Who Laughs',\n",
    "       \"Martha Stewart's Cookie Perfection: 100+ Recipes to Take Your Sweet Treats to the Next Level: A Baking Book\"]\n",
    "\n",
    "c[-22:]"
   ]
  }
 ],
 "metadata": {
  "kernelspec": {
   "display_name": "hitachi",
   "language": "python",
   "name": "python3"
  },
  "language_info": {
   "codemirror_mode": {
    "name": "ipython",
    "version": 3
   },
   "file_extension": ".py",
   "mimetype": "text/x-python",
   "name": "python",
   "nbconvert_exporter": "python",
   "pygments_lexer": "ipython3",
   "version": "3.12.4"
  }
 },
 "nbformat": 4,
 "nbformat_minor": 5
}

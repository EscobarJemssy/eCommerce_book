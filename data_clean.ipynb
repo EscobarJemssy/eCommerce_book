{
 "cells": [
  {
   "cell_type": "code",
   "execution_count": null,
   "id": "bc43b060",
   "metadata": {},
   "outputs": [],
   "source": [
    "!pip pandas\n",
    "!pip os "
   ]
  },
  {
   "cell_type": "markdown",
   "id": "30af1985",
   "metadata": {},
   "source": [
    "<span style=\"font-family: 'Bahnschrift Light'; font-size: 22px\">Cleaning up data</span>"
   ]
  },
  {
   "cell_type": "code",
   "execution_count": 7,
   "id": "a3aff663",
   "metadata": {},
   "outputs": [],
   "source": [
    "import os \n",
    "\n",
    "path_current = os.getcwd()\n",
    "path_data = os.path.abspath(os.path.join(path_current, '..', 'google_books_1299.csv'))\n",
    "path_data_clean = os.path.abspath(f'{path_current}/src/assets')"
   ]
  },
  {
   "cell_type": "code",
   "execution_count": 8,
   "id": "cf46f287",
   "metadata": {},
   "outputs": [],
   "source": [
    "import pandas as pd\n",
    "\n",
    "try:\n",
    "    df = pd.read_csv(path_data, encoding=\"utf-8\") # Uploading data\n",
    "except UnicodeDecodeError as e:\n",
    "    print(f\"Error: {e}\")\n",
    "\n",
    "df = df.head(50).reset_index(drop=True) # Limiting to 50 rows\n",
    "\n",
    "# Dropping unnecessary columns\n",
    "df = df.drop(columns=['currency']) \n",
    "df = df.rename(columns={'Unnamed: 0': 'index'})\n",
    "\n",
    "# Converting columns to appropriate data types\n",
    "df['price'] = df['price'].astype(str).str.replace(',', '').str.replace('$', '').astype(float)\n",
    "df['voters'] = df['voters'].astype(str).str.replace(',', '').replace('nan', '0').astype(int)\n",
    "df['rating'] = pd.to_numeric(df['rating'], errors='coerce').fillna(0).astype(float)\n",
    "df['published_date'] = df['published_date'].astype(str).str.strip().str.replace(',', ' de', regex=True)\n",
    "df['generes'] = df['generes'].replace('none', 'Undefined') "
   ]
  },
  {
   "cell_type": "code",
   "execution_count": 9,
   "id": "52910109",
   "metadata": {},
   "outputs": [],
   "source": [
    "# Cleaning the writing of genres\n",
    "df['generes'] = (\n",
    "    df['generes']\n",
    "    .str.replace('&amp', '', regex=False)\n",
    "    .str.replace('&', 'and', regex=False)\n",
    "    .str.replace(r'\\s*\\([^)]*\\)', '', regex=True)  # Remove text in parentheses\n",
    "    .str.strip()\n",
    ")"
   ]
  },
  {
   "cell_type": "code",
   "execution_count": 32,
   "id": "c3034c27",
   "metadata": {},
   "outputs": [
    {
     "name": "stdout",
     "output_type": "stream",
     "text": [
      "<class 'pandas.core.frame.DataFrame'>\n",
      "RangeIndex: 50 entries, 0 to 49\n",
      "Data columns (total 13 columns):\n",
      " #   Column          Non-Null Count  Dtype  \n",
      "---  ------          --------------  -----  \n",
      " 0   index           50 non-null     int64  \n",
      " 1   title           50 non-null     object \n",
      " 2   author          50 non-null     object \n",
      " 3   rating          50 non-null     float64\n",
      " 4   voters          50 non-null     int64  \n",
      " 5   price           50 non-null     float64\n",
      " 6   description     50 non-null     object \n",
      " 7   publisher       50 non-null     object \n",
      " 8   page_count      50 non-null     int64  \n",
      " 9   generes         50 non-null     object \n",
      " 10  ISBN            50 non-null     object \n",
      " 11  language        50 non-null     object \n",
      " 12  published_date  50 non-null     object \n",
      "dtypes: float64(2), int64(3), object(8)\n",
      "memory usage: 5.2+ KB\n"
     ]
    }
   ],
   "source": [
    "df.info() # Displaying DataFrame information"
   ]
  },
  {
   "cell_type": "code",
   "execution_count": null,
   "id": "defb2615",
   "metadata": {},
   "outputs": [],
   "source": [
    "u = df['voters'].unique()\n",
    "u = sorted(u)\n",
    "u = pd.Series(u)"
   ]
  },
  {
   "cell_type": "code",
   "execution_count": 35,
   "id": "d602ded3",
   "metadata": {},
   "outputs": [
    {
     "name": "stdout",
     "output_type": "stream",
     "text": [
      "[    0     1     3     4     6     7     9    10    13    15    23    42\n",
      "    45    47    57    64    72    94   100   135   200   206   221   281\n",
      "   288   383   408   427   428   522   577   832   861   886  1382  1633\n",
      "  6615 17719 38526]\n"
     ]
    }
   ],
   "source": [
    "print(u) "
   ]
  },
  {
   "cell_type": "code",
   "execution_count": 39,
   "id": "b248f4ed",
   "metadata": {},
   "outputs": [
    {
     "name": "stdout",
     "output_type": "stream",
     "text": [
      "135.0\n"
     ]
    }
   ],
   "source": [
    "print(u.median())"
   ]
  },
  {
   "cell_type": "code",
   "execution_count": null,
   "id": "cc09f4a2",
   "metadata": {},
   "outputs": [
    {
     "name": "stdout",
     "output_type": "stream",
     "text": [
      "4.274\n"
     ]
    }
   ],
   "source": [
    "media = df['rating'].mean() # Calculating the mean rating\n",
    "print(media)"
   ]
  },
  {
   "cell_type": "code",
   "execution_count": 15,
   "id": "fdaffde5",
   "metadata": {},
   "outputs": [
    {
     "data": {
      "text/plain": [
       "36"
      ]
     },
     "execution_count": 15,
     "metadata": {},
     "output_type": "execute_result"
    }
   ],
   "source": [
    "len(df[df['rating'] > media].sort_values(by='rating', ascending=False))"
   ]
  },
  {
   "cell_type": "code",
   "execution_count": null,
   "id": "7ac95d6d",
   "metadata": {},
   "outputs": [],
   "source": [
    "def change_format_to_json(df, route, kwargs): # Function to convert DataFrame to JSON\n",
    "    try:\n",
    "        filename = os.path.abspath(f'{route}/{kwargs['path_or_buf']}.json')\n",
    "        kwargs.pop('path_or_buf')\n",
    "        df.to_json(filename,**kwargs)# lalala\n",
    "    except Exception as e: \n",
    "        print(f\"Error: {e}\")\n",
    "        \n",
    "params = {'path_or_buf': 'google_books_1299_clean_1', 'orient': 'records', 'force_ascii': False}\n",
    "change_format_to_json(df, path_data_clean, params) "
   ]
  },
  {
   "cell_type": "markdown",
   "id": "49277a47",
   "metadata": {},
   "source": [
    "<span style=\"font-family: 'Bahnschrift Light'; font-size: 22px\">Using One Hot Encoding for book categories</span>"
   ]
  },
  {
   "cell_type": "code",
   "execution_count": 205,
   "id": "401f2d05",
   "metadata": {},
   "outputs": [],
   "source": [
    "df_cop = df.copy() # Creating a copy of the DataFrame"
   ]
  },
  {
   "cell_type": "code",
   "execution_count": 206,
   "id": "ab6589ea",
   "metadata": {},
   "outputs": [],
   "source": [
    "# Obtaining unique genres\n",
    "unique_gen = set()\n",
    "for i in df_cop['generes']:\n",
    "    for gen in str(i).split(','): \n",
    "        gen = gen.strip() # Removing leading/trailing spaces\n",
    "        unique_gen.add(gen)\n",
    "\n",
    "for gen in unique_gen:\n",
    "    df_cop[gen] = df_cop['generes'].apply(lambda x: gen in str(x)) # Creating new columns for each genre"
   ]
  },
  {
   "cell_type": "code",
   "execution_count": 198,
   "id": "83d18779",
   "metadata": {},
   "outputs": [
    {
     "name": "stdout",
     "output_type": "stream",
     "text": [
      "45\n",
      " ['Women Sleuths', 'Juvenile Fiction', 'Comics &amp', 'Activities', 'Baking', 'Dragons &amp', 'Detective', 'Adventure', 'Dark Fantasy', 'Electronic', 'Business &amp', 'Cooking', 'Comics & Graphic Novels', 'Science Fiction', 'Games &amp', 'Methods', 'Graphic Novels', 'Superheroes', 'Humorous Stories', 'Accounting', 'Undefined', 'Social Science', 'Fiction', 'Biography &amp', 'Classics', 'Action &amp', 'Mythical Creatures', 'Financial', 'General', 'Military', 'Economics', 'Mystery &amp', 'Video &amp', 'Fantasy', 'Cozy', 'Media Tie-In', 'Noir', 'Sports', 'Epic', 'Autobiography', 'Literary Criticism', 'Leadership', 'Women', 'Motivational', 'Medical (incl. Patients)']\n"
     ]
    }
   ],
   "source": [
    "print(f'{len(unique_gen)}\\n', list(unique_gen)) "
   ]
  },
  {
   "cell_type": "code",
   "execution_count": null,
   "id": "2cbdd037",
   "metadata": {},
   "outputs": [],
   "source": [
    "change_format_to_json(df_cop, path_data_clean, {'path_or_buf': 'google_books_1299_clean_copy', 'orient': 'records', 'force_ascii': False} )"
   ]
  }
 ],
 "metadata": {
  "kernelspec": {
   "display_name": "hitachi",
   "language": "python",
   "name": "python3"
  },
  "language_info": {
   "codemirror_mode": {
    "name": "ipython",
    "version": 3
   },
   "file_extension": ".py",
   "mimetype": "text/x-python",
   "name": "python",
   "nbconvert_exporter": "python",
   "pygments_lexer": "ipython3",
   "version": "3.12.4"
  }
 },
 "nbformat": 4,
 "nbformat_minor": 5
}
